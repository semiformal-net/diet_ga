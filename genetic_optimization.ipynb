{
 "cells": [
  {
   "cell_type": "markdown",
   "metadata": {},
   "source": [
    "# Nutrient optimization\n"
   ]
  },
  {
   "cell_type": "markdown",
   "metadata": {},
   "source": [
    "## Import custom helper functions\n",
    "\n",
    "* def load_data():\n",
    "* def do_clust(N,lim,req,nut):\n",
    "* def evaluate(individual, nut,limt,reqd):\n",
    "* def makeclusters(nclust,limt,reqd,nutrients ):\n",
    "* def InitPopulation( pcls, ind_init,nfood, nclust, nseed,clust):\n",
    "* def generate_ssdum(random, args):"
   ]
  },
  {
   "cell_type": "code",
   "execution_count": 1,
   "metadata": {},
   "outputs": [
    {
     "name": "stdout",
     "output_type": "stream",
     "text": [
      "['/home/pedwards/documents/SpartanSupper/git', '/home/pedwards/.conda/envs/spartansupper/lib/python37.zip', '/home/pedwards/.conda/envs/spartansupper/lib/python3.7', '/home/pedwards/.conda/envs/spartansupper/lib/python3.7/lib-dynload', '', '/home/pedwards/.conda/envs/spartansupper/lib/python3.7/site-packages', '/home/pedwards/.conda/envs/spartansupper/lib/python3.7/site-packages/IPython/extensions', '/home/pedwards/.ipython']\n"
     ]
    },
    {
     "ename": "ModuleNotFoundError",
     "evalue": "No module named 'lib'",
     "output_type": "error",
     "traceback": [
      "\u001b[0;31m---------------------------------------------------------------------------\u001b[0m",
      "\u001b[0;31mModuleNotFoundError\u001b[0m                       Traceback (most recent call last)",
      "\u001b[0;32m<ipython-input-1-6718f4cd8970>\u001b[0m in \u001b[0;36m<module>\u001b[0;34m\u001b[0m\n\u001b[1;32m      1\u001b[0m \u001b[0;32mimport\u001b[0m \u001b[0msys\u001b[0m\u001b[0;34m\u001b[0m\u001b[0;34m\u001b[0m\u001b[0m\n\u001b[1;32m      2\u001b[0m \u001b[0mprint\u001b[0m\u001b[0;34m(\u001b[0m\u001b[0msys\u001b[0m\u001b[0;34m.\u001b[0m\u001b[0mpath\u001b[0m\u001b[0;34m)\u001b[0m\u001b[0;34m\u001b[0m\u001b[0;34m\u001b[0m\u001b[0m\n\u001b[0;32m----> 3\u001b[0;31m \u001b[0;32mfrom\u001b[0m \u001b[0mlib\u001b[0m\u001b[0;34m.\u001b[0m\u001b[0mlibraries\u001b[0m \u001b[0;32mimport\u001b[0m \u001b[0;34m*\u001b[0m\u001b[0;34m\u001b[0m\u001b[0;34m\u001b[0m\u001b[0m\n\u001b[0m",
      "\u001b[0;31mModuleNotFoundError\u001b[0m: No module named 'lib'"
     ]
    }
   ],
   "source": [
    "import sys\n",
    "print(sys.path)\n",
    "from lib.libraries import *"
   ]
  },
  {
   "cell_type": "markdown",
   "metadata": {},
   "source": [
    "## Import external libraries\n",
    "\n",
    "Most are standard, but we want the glpk solver for cvxopt, which requires the following,\n",
    "```\n",
    "$ sudo apt-get install libglpk-dev\n",
    "$ sudo CVXOPT_BUILD_GLPK=1 pip install cvxopt\n",
    "```"
   ]
  },
  {
   "cell_type": "code",
   "execution_count": null,
   "metadata": {},
   "outputs": [],
   "source": [
    "from os import path\n",
    "\n",
    "import pickle\n",
    "import pandas\n",
    "import numpy\n",
    "from deap import base, creator, tools, algorithms\n",
    "from sklearn.preprocessing import normalize\n",
    "from cvxopt import matrix, solvers # an alternative linear programming library\n",
    "solvers.options['show_progress'] = False\n",
    "\n",
    "from sklearn.cluster import KMeans\n",
    "import random\n",
    "from time import time\n",
    "\n",
    "pandas.set_option('display.max_rows', None)\n",
    "pandas.set_option('display.max_columns', None)"
   ]
  },
  {
   "cell_type": "markdown",
   "metadata": {},
   "source": [
    "## Load food & nutrients from database"
   ]
  },
  {
   "cell_type": "code",
   "execution_count": null,
   "metadata": {},
   "outputs": [],
   "source": [
    "numpy.random.seed(seed=333)\n",
    "(nutrients,reqd,limt,food_desc,nutrient_desc)=load_data()\n",
    "print( '[*] Loaded %d foods from database' % nutrients.shape[0] )"
   ]
  },
  {
   "cell_type": "markdown",
   "metadata": {},
   "source": [
    "## Cluster\n",
    "\n",
    "Observation: the optimization converges faster (and to lower minima) if provided a \"seed\" population with random baskets of *diverse* foods\n",
    "\n",
    "Technique: I use a kmeans to find clusters of food types then sample from them (with a multinomial dist)"
   ]
  },
  {
   "cell_type": "code",
   "execution_count": null,
   "metadata": {},
   "outputs": [],
   "source": [
    "if not path.exists('clust.pkl'):\n",
    "    Nclust=15\n",
    "    clust=makeclusters(Nclust,limt,reqd,nutrients )\n",
    "    pickle.dump( clust, open( \"clust.pkl\", \"wb\" ) )\n",
    "else:\n",
    "    clust=pickle.load( open( \"clust.pkl\", \"rb\" ) )\n",
    "    print( '[*] Found pickle file with %d clusters and %d foods' % (clust.max()+1,len(clust)) )"
   ]
  },
  {
   "cell_type": "markdown",
   "metadata": {},
   "source": [
    "## Genetic algorithm\n",
    "\n",
    "This is the outermost optimization layer (the inner optim is in `evaluate()`)\n",
    "\n",
    "Todo: play with early stopping. no need to keep going after improvement has ceased or slowed."
   ]
  },
  {
   "cell_type": "code",
   "execution_count": null,
   "metadata": {},
   "outputs": [],
   "source": [
    "creator.create(\"FitnessMin\", base.Fitness, weights=(-1.0,))\n",
    "creator.create(\"Individual\", list, fitness=creator.FitnessMin) # an individual comprises a list (of food IDs)\n",
    "N_FOODS=6\n",
    "Nseed=500\n",
    "NT_DIM=nutrients.shape[0]\n",
    "toolbox = base.Toolbox()\n",
    "# Attribute generator \n",
    "toolbox.register(\"attr_foodid\", random.randrange, NT_DIM)\n",
    "# Structure initializers\n",
    "toolbox.register(\"individual\", tools.initRepeat, creator.Individual, \n",
    "    toolbox.attr_foodid, N_FOODS)\n",
    "toolbox.register(\"population\", tools.initRepeat, list, toolbox.individual)\n",
    "\n",
    "toolbox.register(\"mate\", tools.cxTwoPoint)\n",
    "toolbox.register(\"mutate\", tools.mutUniformInt, low=0, up=NT_DIM, indpb=0.1)\n",
    "#toolbox.register(\"select\", tools.selBest, k=3)\n",
    "toolbox.register(\"select\", tools.selTournament, tournsize=10)\n",
    "toolbox.register(\"evaluate\", evaluate, nut=nutrients,limt=limt,reqd=reqd)\n",
    "\n",
    "# used to make a seed population (only) ; per: https://deap.readthedocs.io/en/master/tutorials/basic/part1.html?highlight=seeding#seeding-a-population\n",
    "toolbox.register(\"population_guess\", InitPopulation, list, creator.Individual, N_FOODS,Nclust,Nseed,limt,reqd,nutrients )\n",
    "\n",
    "stats = tools.Statistics(key=lambda ind: ind.fitness.values)\n",
    "stats.register(\"median\", numpy.median)\n",
    "stats.register(\"std\", numpy.std)\n",
    "stats.register(\"min\", numpy.min)\n",
    "stats.register(\"max\", numpy.max)"
   ]
  },
  {
   "cell_type": "code",
   "execution_count": null,
   "metadata": {},
   "outputs": [],
   "source": [
    "%%time\n",
    "\n",
    "pop = toolbox.population(n=300) # totally random initial population\n",
    "#pop = toolbox.population_guess()\n",
    "pop, logbook = algorithms.eaSimple(pop, toolbox, cxpb=0.5, mutpb=0.2, ngen=50, \n",
    "                                   stats=stats, verbose=True)"
   ]
  },
  {
   "cell_type": "code",
   "execution_count": null,
   "metadata": {},
   "outputs": [],
   "source": [
    "best=tools.selBest(pop, k=1)\n",
    "best=best[0]\n",
    "evaluate(best, nut=nutrients,limt=limt,reqd=reqd)\n",
    "nt=nutrients.iloc[best,:]\n",
    "c = matrix(numpy.repeat(1.0,nt.shape[0]))\n",
    "np_G= numpy.concatenate(\n",
    "                        (   nt.transpose().values, \n",
    "                            nt.transpose().multiply(-1.0).values,\n",
    "                            numpy.diag(numpy.repeat(-1,nt.shape[0])) \n",
    "                        )\n",
    "                       ).astype(numpy.double) \n",
    "G = matrix( np_G ) \n",
    "h = matrix( numpy.concatenate( (\n",
    "                limt.values, \n",
    "                reqd.multiply(-1.0).values, \n",
    "                numpy.repeat(0.0,nt.shape[0])\n",
    "            ) ).astype(numpy.double) )    \n",
    "o = solvers.lp(c, G, h, solver='glpk')\n",
    "food_amounts=numpy.array(o['x'])[:,0]\n"
   ]
  },
  {
   "cell_type": "markdown",
   "metadata": {},
   "source": [
    "## Print the best \"diet\"\n",
    "\n",
    "This is the food and corresponding amount to eat (in grams, sorry bud!). The idea is if you eat all this in a day you have the nutrients you need for the day.\n",
    "\n",
    "Todo: this would be better if split up into recipes. "
   ]
  },
  {
   "cell_type": "code",
   "execution_count": null,
   "metadata": {},
   "outputs": [],
   "source": [
    "final_foods= [ best[i] for i in range(len(food_amounts)) if food_amounts[i]>1e-6 ] # select those with non-trivial amounts\n",
    "final_food_amounts= food_amounts[ food_amounts>1e-6 ]\n",
    "\n",
    "nt=nutrients.iloc[final_foods,:]\n",
    "df1= nt.join(food_desc).loc[:,['long_desc']] #food_desc.iloc[final_foods]\n",
    "df2=pandas.DataFrame(final_food_amounts*100,index=df1.index,columns=[\"amount\"])\n",
    "df3=pandas.DataFrame(nt.loc[:,208].values * df2.loc[:,'amount'].values/100 ,columns=['calories'], index=df2.index)\n",
    "diet_table=df1.join(df2).join(df3)"
   ]
  },
  {
   "cell_type": "code",
   "execution_count": null,
   "metadata": {},
   "outputs": [],
   "source": [
    "diet_table"
   ]
  },
  {
   "cell_type": "code",
   "execution_count": null,
   "metadata": {},
   "outputs": [],
   "source": [
    "nutrient_totals=pandas.DataFrame( ( \n",
    "                    numpy.dot( numpy.transpose(final_food_amounts), nt.values),\n",
    "                    reqd,\n",
    "                    limt\n",
    "                  ), index=['Total','Amount required','Amount limit'], columns=nt.columns).transpose()"
   ]
  },
  {
   "cell_type": "code",
   "execution_count": null,
   "metadata": {},
   "outputs": [],
   "source": [
    "A=nt.join(df1).set_index('long_desc').transpose() * final_food_amounts\n",
    "nutrient_report=A.join(nutrient_desc).join(nutrient_totals).set_index('name')\n",
    "nutrient_report"
   ]
  }
 ],
 "metadata": {
  "kernelspec": {
   "display_name": "Python 3",
   "language": "python",
   "name": "python3"
  },
  "language_info": {
   "codemirror_mode": {
    "name": "ipython",
    "version": 3
   },
   "file_extension": ".py",
   "mimetype": "text/x-python",
   "name": "python",
   "nbconvert_exporter": "python",
   "pygments_lexer": "ipython3",
   "version": "3.7.6"
  }
 },
 "nbformat": 4,
 "nbformat_minor": 4
}
